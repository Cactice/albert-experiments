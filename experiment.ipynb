{
  "nbformat": 4,
  "nbformat_minor": 0,
  "metadata": {
    "colab": {
      "name": "experiment.ipynb",
      "provenance": [],
      "collapsed_sections": [],
      "toc_visible": true,
      "authorship_tag": "ABX9TyMTi/a4vHk1VGx64Y5lC69A",
      "include_colab_link": true
    },
    "kernelspec": {
      "name": "python3",
      "display_name": "Python 3"
    },
    "accelerator": "GPU"
  },
  "cells": [
    {
      "cell_type": "markdown",
      "metadata": {
        "id": "view-in-github",
        "colab_type": "text"
      },
      "source": [
        "<a href=\"https://colab.research.google.com/github/Cactice/albert-experiments/blob/master/experiment.ipynb\" target=\"_parent\"><img src=\"https://colab.research.google.com/assets/colab-badge.svg\" alt=\"Open In Colab\"/></a>"
      ]
    },
    {
      "cell_type": "code",
      "metadata": {
        "id": "n02XD7_Y1Ztj",
        "colab_type": "code",
        "colab": {}
      },
      "source": [
        "# !pip install tensorflow==1.15\n",
        "# !pip install \"tensorflow_hub>=0.6.0\"\n",
        "\n",
        "# import tensorflow as tf\n",
        "# import tensorflow_hub as hub"
      ],
      "execution_count": 0,
      "outputs": []
    },
    {
      "cell_type": "code",
      "metadata": {
        "id": "Gaa5ZdP604y4",
        "colab_type": "code",
        "colab": {}
      },
      "source": [
        "# batch_size=13\n",
        "# max_sequence_length=7\n",
        "# input_ids =  tf.placeholder(dtype=tf.int32, shape=[batch_size, max_sequence_length])\n",
        "# input_mask =  tf.placeholder(dtype=tf.int32, shape=[batch_size, max_sequence_length])\n",
        "# segment_ids =  tf.placeholder(dtype=tf.int32, shape=[batch_size, max_sequence_length])\n",
        "\n",
        "# albert_module = hub.Module(\n",
        "#     \"https://tfhub.dev/google/albert_base/3\",\n",
        "#     trainable=True)\n",
        "    \n",
        "# albert_inputs = dict(\n",
        "#     input_ids=input_ids,\n",
        "#     input_mask=input_mask,\n",
        "#     segment_ids=segment_ids)\n",
        "# albert_outputs = albert_module(albert_inputs, signature=\"tokens\", as_dict=True)\n",
        "# pooled_output = albert_outputs[\"pooled_output\"]\n",
        "# sequence_output = albert_outputs[\"sequence_output\"]"
      ],
      "execution_count": 0,
      "outputs": []
    },
    {
      "cell_type": "code",
      "metadata": {
        "id": "v0hwWC5S75yK",
        "colab_type": "code",
        "colab": {}
      },
      "source": [
        "!wget -P albert_base/ https://storage.googleapis.com/albert_models/albert_base_v1.tar.gz \n",
        "!wget -P squad/  https://rajpurkar.github.io/SQuAD-explorer/dataset/train-v1.1.json \n",
        "!wget -P squad/  https://rajpurkar.github.io/SQuAD-explorer/dataset/dev-v1.1.json "
      ],
      "execution_count": 0,
      "outputs": []
    },
    {
      "cell_type": "code",
      "metadata": {
        "id": "TkwwLL1D1FYo",
        "colab_type": "code",
        "colab": {
          "base_uri": "https://localhost:8080/",
          "height": 119
        },
        "outputId": "33b48b4c-7a2d-4121-b357-55f7c40c2de2"
      },
      "source": [
        "\n",
        "!git clone https://github.com/google-research/ALBERT albert\n",
        "\n",
        "%cd albert"
      ],
      "execution_count": 2,
      "outputs": [
        {
          "output_type": "stream",
          "text": [
            "Cloning into 'albert'...\n",
            "remote: Enumerating objects: 307, done.\u001b[K\n",
            "remote: Total 307 (delta 0), reused 0 (delta 0), pack-reused 307\u001b[K\n",
            "Receiving objects: 100% (307/307), 198.19 KiB | 1.03 MiB/s, done.\n",
            "Resolving deltas: 100% (205/205), done.\n",
            "/content/albert\n"
          ],
          "name": "stdout"
        }
      ]
    },
    {
      "cell_type": "code",
      "metadata": {
        "id": "-RQFuE0QAHEc",
        "colab_type": "code",
        "colab": {}
      },
      "source": [
        "%ls"
      ],
      "execution_count": 0,
      "outputs": []
    },
    {
      "cell_type": "code",
      "metadata": {
        "id": "ps-BBoglSFsL",
        "colab_type": "code",
        "colab": {
          "base_uri": "https://localhost:8080/",
          "height": 51
        },
        "outputId": "727a3c59-1cd3-4fd0-8503-ad64781b6990"
      },
      "source": [
        "%env ALBERT_ROOT=/content/albert_base\n",
        "%env SQUAD=/content/squad"
      ],
      "execution_count": 7,
      "outputs": [
        {
          "output_type": "stream",
          "text": [
            "env: ALBERT_ROOT=/content/albert_base\n",
            "env: SQUAD=/content/squad\n"
          ],
          "name": "stdout"
        }
      ]
    },
    {
      "cell_type": "code",
      "metadata": {
        "id": "-acKaiGVjAOl",
        "colab_type": "code",
        "colab": {
          "base_uri": "https://localhost:8080/",
          "height": 428
        },
        "outputId": "8374c996-2358-4bde-985c-4283bedbe4bf"
      },
      "source": [
        "!pip install -r requirements.txt    "
      ],
      "execution_count": 3,
      "outputs": [
        {
          "output_type": "stream",
          "text": [
            "Requirement already satisfied: tensorflow==1.15.2 in /usr/local/lib/python3.6/dist-packages (from -r requirements.txt (line 2)) (1.15.2)\n",
            "Requirement already satisfied: tensorflow_hub==0.7 in /usr/local/lib/python3.6/dist-packages (from -r requirements.txt (line 3)) (0.7.0)\n",
            "Requirement already satisfied: sentencepiece in /usr/local/lib/python3.6/dist-packages (from -r requirements.txt (line 5)) (0.1.85)\n",
            "Requirement already satisfied: numpy<2.0,>=1.16.0 in /usr/local/lib/python3.6/dist-packages (from tensorflow==1.15.2->-r requirements.txt (line 2)) (1.18.2)\n",
            "Requirement already satisfied: keras-applications>=1.0.8 in /usr/local/lib/python3.6/dist-packages (from tensorflow==1.15.2->-r requirements.txt (line 2)) (1.0.8)\n",
            "Requirement already satisfied: wrapt>=1.11.1 in /usr/local/lib/python3.6/dist-packages (from tensorflow==1.15.2->-r requirements.txt (line 2)) (1.12.1)\n",
            "Requirement already satisfied: google-pasta>=0.1.6 in /usr/local/lib/python3.6/dist-packages (from tensorflow==1.15.2->-r requirements.txt (line 2)) (0.2.0)\n",
            "Requirement already satisfied: astor>=0.6.0 in /usr/local/lib/python3.6/dist-packages (from tensorflow==1.15.2->-r requirements.txt (line 2)) (0.8.1)\n",
            "Requirement already satisfied: opt-einsum>=2.3.2 in /usr/local/lib/python3.6/dist-packages (from tensorflow==1.15.2->-r requirements.txt (line 2)) (3.2.0)\n",
            "Requirement already satisfied: keras-preprocessing>=1.0.5 in /usr/local/lib/python3.6/dist-packages (from tensorflow==1.15.2->-r requirements.txt (line 2)) (1.1.0)\n",
            "Requirement already satisfied: tensorflow-estimator==1.15.1 in /tensorflow-1.15.0/python3.6 (from tensorflow==1.15.2->-r requirements.txt (line 2)) (1.15.1)\n",
            "Requirement already satisfied: grpcio>=1.8.6 in /usr/local/lib/python3.6/dist-packages (from tensorflow==1.15.2->-r requirements.txt (line 2)) (1.24.3)\n",
            "Requirement already satisfied: absl-py>=0.7.0 in /usr/local/lib/python3.6/dist-packages (from tensorflow==1.15.2->-r requirements.txt (line 2)) (0.9.0)\n",
            "Requirement already satisfied: tensorboard<1.16.0,>=1.15.0 in /tensorflow-1.15.0/python3.6 (from tensorflow==1.15.2->-r requirements.txt (line 2)) (1.15.0)\n",
            "Requirement already satisfied: gast==0.2.2 in /usr/local/lib/python3.6/dist-packages (from tensorflow==1.15.2->-r requirements.txt (line 2)) (0.2.2)\n",
            "Requirement already satisfied: wheel>=0.26; python_version >= \"3\" in /usr/local/lib/python3.6/dist-packages (from tensorflow==1.15.2->-r requirements.txt (line 2)) (0.34.2)\n",
            "Requirement already satisfied: six>=1.10.0 in /usr/local/lib/python3.6/dist-packages (from tensorflow==1.15.2->-r requirements.txt (line 2)) (1.12.0)\n",
            "Requirement already satisfied: termcolor>=1.1.0 in /usr/local/lib/python3.6/dist-packages (from tensorflow==1.15.2->-r requirements.txt (line 2)) (1.1.0)\n",
            "Requirement already satisfied: protobuf>=3.6.1 in /usr/local/lib/python3.6/dist-packages (from tensorflow==1.15.2->-r requirements.txt (line 2)) (3.10.0)\n",
            "Requirement already satisfied: h5py in /usr/local/lib/python3.6/dist-packages (from keras-applications>=1.0.8->tensorflow==1.15.2->-r requirements.txt (line 2)) (2.8.0)\n",
            "Requirement already satisfied: werkzeug>=0.11.15 in /usr/local/lib/python3.6/dist-packages (from tensorboard<1.16.0,>=1.15.0->tensorflow==1.15.2->-r requirements.txt (line 2)) (1.0.0)\n",
            "Requirement already satisfied: markdown>=2.6.8 in /usr/local/lib/python3.6/dist-packages (from tensorboard<1.16.0,>=1.15.0->tensorflow==1.15.2->-r requirements.txt (line 2)) (3.2.1)\n",
            "Requirement already satisfied: setuptools>=41.0.0 in /usr/local/lib/python3.6/dist-packages (from tensorboard<1.16.0,>=1.15.0->tensorflow==1.15.2->-r requirements.txt (line 2)) (46.0.0)\n"
          ],
          "name": "stdout"
        }
      ]
    },
    {
      "cell_type": "code",
      "metadata": {
        "id": "I91aIXWtg4Tl",
        "colab_type": "code",
        "colab": {}
      },
      "source": [
        "!python -m run_squad_v1 \\\n",
        "  --albert_config_file=\"${ALBERT_ROOT}/albert_config.json\" \\\n",
        "  --output_dir=\"./output_base_v2/SQUAD\" \\\n",
        "  --train_file=\"$SQUAD_DIR/train-v1.1.json\"  \\\n",
        "  --predict_file=\"$SQUAD_DIR/dev-v1.1.json\"  \\\n",
        "  --train_feature_file=\"$SQUAD_DIR/train.tfrecord\" \\\n",
        "  --predict_feature_file=\"$SQUAD_DIR/dev.tfrecord\" \\\n",
        "  --predict_feature_left_file=\"$SQUAD_DIR/pred_left_file.pkl\" \\\n",
        "  --albert_hub_module_handle= \"https://tfhub.dev/google/albert_base/3\" \\\n",
        "  --spm_model_file=\"${ALBERT_ROOT}/30k-clean.model\" \\\n",
        "  --do_lower_case \\\n",
        "  --max_seq_length=384 \\\n",
        "  --doc_stride=128 \\\n",
        "  --max_query_length=64 \\\n",
        "  --do_train=true \\\n",
        "  --do_predict=true \\\n",
        "  --train_batch_size=48 \\\n",
        "  --predict_batch_size=8 \\\n",
        "  --learning_rate=5e-5 \\\n",
        "  --num_train_epochs=2.0 \\\n",
        "  --warmup_proportion=.1 \\\n",
        "  --save_checkpoints_steps=5000 \\\n",
        "  --n_best_size=20 \\\n",
        "  --max_answer_length=30"
      ],
      "execution_count": 0,
      "outputs": []
    }
  ]
}